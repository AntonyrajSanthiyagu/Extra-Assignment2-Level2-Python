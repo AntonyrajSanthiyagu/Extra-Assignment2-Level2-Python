{
 "cells": [
  {
   "cell_type": "code",
   "execution_count": 7,
   "id": "8cf9b9ee-d2de-4aa5-a916-7f29faf78bc1",
   "metadata": {},
   "outputs": [
    {
     "name": "stdout",
     "output_type": "stream",
     "text": [
      "0\n",
      "1\n",
      "2\n",
      "3\n",
      "4\n",
      "5\n",
      "6\n",
      "7\n",
      "8\n",
      "9\n",
      "10\n",
      "11\n",
      "12\n",
      "13\n",
      "14\n",
      "15\n",
      "16\n",
      "17\n",
      "18\n",
      "19\n"
     ]
    }
   ],
   "source": [
    "for number in range(20):\n",
    "    print(number)\n"
   ]
  },
  {
   "cell_type": "code",
   "execution_count": 9,
   "id": "81bae2d3-7064-41b7-8cd8-7b8b24673ef6",
   "metadata": {},
   "outputs": [
    {
     "name": "stdout",
     "output_type": "stream",
     "text": [
      "10\n",
      "11\n",
      "12\n",
      "13\n",
      "14\n",
      "15\n",
      "16\n",
      "17\n",
      "18\n",
      "19\n",
      "20\n"
     ]
    }
   ],
   "source": [
    "for number in range(10, 21):\n",
    "    print(number)\n"
   ]
  },
  {
   "cell_type": "code",
   "execution_count": 19,
   "id": "6d12fd71-5628-43e4-9151-bab795784fcf",
   "metadata": {},
   "outputs": [
    {
     "name": "stdout",
     "output_type": "stream",
     "text": [
      "Number of items in the list2: 7\n"
     ]
    }
   ],
   "source": [
    "sample_list2 = [10, 20, 14, 55, 43, 87, 76]\n",
    "number_of_items = len(sample_list2)\n",
    "print(f\"Number of items in the list2: {number_of_items}\")\n"
   ]
  },
  {
   "cell_type": "code",
   "execution_count": 27,
   "id": "c1915720-263e-43f9-ad25-a8750fa44c51",
   "metadata": {},
   "outputs": [
    {
     "name": "stdout",
     "output_type": "stream",
     "text": [
      "Artificial Intelligence\n",
      "A\n",
      "r\n",
      "t\n",
      "i\n",
      "f\n",
      "i\n",
      "c\n",
      "i\n",
      "a\n",
      "l\n",
      "I\n",
      "n\n",
      "t\n",
      "e\n",
      "l\n",
      "l\n",
      "i\n",
      "g\n",
      "e\n",
      "n\n",
      "c\n",
      "e\n"
     ]
    }
   ],
   "source": [
    "print(\"Artificial Intelligence\")\n",
    "print(\"A\")\n",
    "print(\"r\")\n",
    "print(\"t\")\n",
    "print(\"i\")\n",
    "print(\"f\")\n",
    "print(\"i\")\n",
    "print(\"c\")\n",
    "print(\"i\")\n",
    "print(\"a\")\n",
    "print(\"l\")\n",
    "\n",
    "print(\"I\")\n",
    "print(\"n\")\n",
    "print(\"t\")\n",
    "print(\"e\")\n",
    "print(\"l\")\n",
    "print(\"l\")\n",
    "print(\"i\")\n",
    "print(\"g\")\n",
    "print(\"e\")\n",
    "print(\"n\")\n",
    "print(\"c\")\n",
    "print(\"e\")\n"
   ]
  },
  {
   "cell_type": "code",
   "execution_count": 29,
   "id": "f9bf30be-f138-4373-8848-a72ea2aec22b",
   "metadata": {},
   "outputs": [
    {
     "name": "stdout",
     "output_type": "stream",
     "text": [
      "Name:Antonyraj\n",
      "Age:39\n",
      "Profession:Quality Control Inspector\n"
     ]
    }
   ],
   "source": [
    "print(\"Name:Antonyraj\")\n",
    "print(\"Age:39\")\n",
    "print(\"Profession:Quality Control Inspector\")"
   ]
  },
  {
   "cell_type": "code",
   "execution_count": 31,
   "id": "c48a4f7a-6050-40bd-b732-c11b78bc2fa8",
   "metadata": {},
   "outputs": [
    {
     "name": "stdout",
     "output_type": "stream",
     "text": [
      "The tuple is: (1, 'welcome', 2, 'Hope')\n"
     ]
    }
   ],
   "source": [
    "mixed_tuple = (1, \"welcome\", 2, \"Hope\")\n",
    "print(\"The tuple is:\", mixed_tuple)\n"
   ]
  },
  {
   "cell_type": "code",
   "execution_count": 47,
   "id": "82048b67-f4ce-4f87-8eaf-fd60171aa110",
   "metadata": {},
   "outputs": [
    {
     "ename": "SyntaxError",
     "evalue": "unterminated string literal (detected at line 1) (1561470657.py, line 1)",
     "output_type": "error",
     "traceback": [
      "\u001b[1;36m  Cell \u001b[1;32mIn[47], line 1\u001b[1;36m\u001b[0m\n\u001b[1;33m    num=int(input(20,10,16,19,25,1,276,188:\"))\u001b[0m\n\u001b[1;37m                                           ^\u001b[0m\n\u001b[1;31mSyntaxError\u001b[0m\u001b[1;31m:\u001b[0m unterminated string literal (detected at line 1)\n"
     ]
    }
   ],
   "source": [
    "num=int(input(20,10,16,19,25,1,276,188:\"))\n",
    "if((num % 2)== 1):\n",
    "    print(\"odd number\")\n",
    "else:\n",
    "    print(\"even number\")\n"
   ]
  },
  {
   "cell_type": "code",
   "execution_count": null,
   "id": "381245d6-fd00-417e-bcee-7e2f43d97ead",
   "metadata": {},
   "outputs": [],
   "source": []
  }
 ],
 "metadata": {
  "kernelspec": {
   "display_name": "Python 3 (ipykernel)",
   "language": "python",
   "name": "python3"
  },
  "language_info": {
   "codemirror_mode": {
    "name": "ipython",
    "version": 3
   },
   "file_extension": ".py",
   "mimetype": "text/x-python",
   "name": "python",
   "nbconvert_exporter": "python",
   "pygments_lexer": "ipython3",
   "version": "3.12.4"
  }
 },
 "nbformat": 4,
 "nbformat_minor": 5
}

{
 "cells": [
  {
   "cell_type": "code",
   "execution_count": 7,
   "id": "8cf9b9ee-d2de-4aa5-a916-7f29faf78bc1",
   "metadata": {},
   "outputs": [
    {
     "name": "stdout",
     "output_type": "stream",
     "text": [
      "0\n",
      "1\n",
      "2\n",
      "3\n",
      "4\n",
      "5\n",
      "6\n",
      "7\n",
      "8\n",
      "9\n",
      "10\n",
      "11\n",
      "12\n",
      "13\n",
      "14\n",
      "15\n",
      "16\n",
      "17\n",
      "18\n",
      "19\n"
     ]
    }
   ],
   "source": [
    "for number in range(20):\n",
    "    print(number)\n"
   ]
  },
  {
   "cell_type": "code",
   "execution_count": 9,
   "id": "81bae2d3-7064-41b7-8cd8-7b8b24673ef6",
   "metadata": {},
   "outputs": [
    {
     "name": "stdout",
     "output_type": "stream",
     "text": [
      "10\n",
      "11\n",
      "12\n",
      "13\n",
      "14\n",
      "15\n",
      "16\n",
      "17\n",
      "18\n",
      "19\n",
      "20\n"
     ]
    }
   ],
   "source": [
    "for number in range(10, 21):\n",
    "    print(number)\n"
   ]
  },
  {
   "cell_type": "code",
   "execution_count": 19,
   "id": "6d12fd71-5628-43e4-9151-bab795784fcf",
   "metadata": {},
   "outputs": [
    {
     "name": "stdout",
     "output_type": "stream",
     "text": [
      "Number of items in the list2: 7\n"
     ]
    }
   ],
   "source": [
    "sample_list2 = [10, 20, 14, 55, 43, 87, 76]\n",
    "number_of_items = len(sample_list2)\n",
    "print(f\"Number of items in the list2: {number_of_items}\")\n"
   ]
  },
  {
   "cell_type": "code",
   "execution_count": 55,
   "id": "c1915720-263e-43f9-ad25-a8750fa44c51",
   "metadata": {},
   "outputs": [
    {
     "name": "stdout",
     "output_type": "stream",
     "text": [
      "A\n",
      "r\n",
      "t\n",
      "i\n",
      "f\n",
      "i\n",
      "c\n",
      "i\n",
      "a\n",
      "l\n",
      " \n",
      "I\n",
      "n\n",
      "t\n",
      "e\n",
      "l\n",
      "l\n",
      "i\n",
      "g\n",
      "e\n",
      "n\n",
      "c\n",
      "e\n"
     ]
    }
   ],
   "source": [
    "AI=\"Artificial Intelligence\"\n",
    "for I in AI:\n",
    "    print(I)\n",
    "  "
   ]
  },
  {
   "cell_type": "code",
   "execution_count": 61,
   "id": "f9bf30be-f138-4373-8848-a72ea2aec22b",
   "metadata": {},
   "outputs": [
    {
     "name": "stdout",
     "output_type": "stream",
     "text": [
      "Your Name\n",
      "YourAge\n",
      "Your profession\n"
     ]
    }
   ],
   "source": [
    "List=[\"Your Name\",\"YourAge\",\"Your profession\"]\n",
    "for I in List:\n",
    "     print(I)\n"
   ]
  },
  {
   "cell_type": "code",
   "execution_count": null,
   "id": "95a0afcb-5274-4906-889c-91dbd6cbe26c",
   "metadata": {},
   "outputs": [],
   "source": []
  },
  {
   "cell_type": "code",
   "execution_count": 31,
   "id": "c48a4f7a-6050-40bd-b732-c11b78bc2fa8",
   "metadata": {},
   "outputs": [
    {
     "name": "stdout",
     "output_type": "stream",
     "text": [
      "The tuple is: (1, 'welcome', 2, 'Hope')\n"
     ]
    }
   ],
   "source": [
    "mixed_tuple = (1, \"welcome\", 2, \"Hope\")\n",
    "print(\"The tuple is:\", mixed_tuple)\n"
   ]
  },
  {
   "cell_type": "code",
   "execution_count": 65,
   "id": "82048b67-f4ce-4f87-8eaf-fd60171aa110",
   "metadata": {},
   "outputs": [
    {
     "name": "stdout",
     "output_type": "stream",
     "text": [
      "19 is odd\n",
      "25 is odd\n",
      "1 is odd\n"
     ]
    }
   ],
   "source": [
    "List=[20,10,16,19,25,1,276,188]\n",
    "for odd in List:\n",
    " if((odd % 2)== 1):\n",
    "    print(odd,\"is odd\")\n",
    " "
   ]
  },
  {
   "cell_type": "code",
   "execution_count": 67,
   "id": "0704006c-70d9-4c30-bb99-e7865e503cb0",
   "metadata": {},
   "outputs": [
    {
     "name": "stdout",
     "output_type": "stream",
     "text": [
      "20 is even\n",
      "10 is even\n",
      "16 is even\n",
      "276 is even\n",
      "188 is even\n"
     ]
    }
   ],
   "source": [
    "ist=[20,10,16,19,25,1,276,188]\n",
    "for even in List:\n",
    " if((even % 2)== 0):\n",
    "    print(even,\"is even\")"
   ]
  },
  {
   "cell_type": "code",
   "execution_count": null,
   "id": "381245d6-fd00-417e-bcee-7e2f43d97ead",
   "metadata": {},
   "outputs": [],
   "source": []
  }
 ],
 "metadata": {
  "kernelspec": {
   "display_name": "Python 3 (ipykernel)",
   "language": "python",
   "name": "python3"
  },
  "language_info": {
   "codemirror_mode": {
    "name": "ipython",
    "version": 3
   },
   "file_extension": ".py",
   "mimetype": "text/x-python",
   "name": "python",
   "nbconvert_exporter": "python",
   "pygments_lexer": "ipython3",
   "version": "3.12.4"
  }
 },
 "nbformat": 4,
 "nbformat_minor": 5
}
